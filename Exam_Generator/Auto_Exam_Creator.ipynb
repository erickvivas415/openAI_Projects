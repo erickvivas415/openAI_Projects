{
 "cells": [
  {
   "cell_type": "code",
   "execution_count": 7,
   "id": "7490da9d",
   "metadata": {},
   "outputs": [],
   "source": [
    "import openAI_Key\n",
    "import os\n",
    "import openai"
   ]
  },
  {
   "cell_type": "code",
   "execution_count": 11,
   "id": "41051c84",
   "metadata": {},
   "outputs": [],
   "source": [
    "openai.api_key = openAI_Key.key"
   ]
  },
  {
   "cell_type": "code",
   "execution_count": 20,
   "id": "b6f41fe4",
   "metadata": {},
   "outputs": [],
   "source": [
    "def create_test_prompt(topic,num_questions,num_possible_answers):\n",
    "    prompt = f\"Create a multiple choice quiz on the topic of {topic} consisting  of {num_questions} questions.\"\\\n",
    "    +f\"Each questions should have {num_possible_answers} options. \"\\\n",
    "    +f\"Also include the correct answer for each question usting the start string 'Correct Answer:'\"\n",
    "    return prompt"
   ]
  },
  {
   "cell_type": "code",
   "execution_count": 21,
   "id": "14d5d42f",
   "metadata": {},
   "outputs": [],
   "source": [
    "response = openai.Completion.create(\n",
    "    engine='text-davinci-003',\n",
    "    prompt = create_test_prompt('US History',4,4),\n",
    "    max_tokens = 256,\n",
    "    temperature = 0.7\n",
    "    )"
   ]
  },
  {
   "cell_type": "code",
   "execution_count": 24,
   "id": "fc7fefca",
   "metadata": {},
   "outputs": [
    {
     "name": "stdout",
     "output_type": "stream",
     "text": [
      "\n",
      "\n",
      "1.What year did the Declaration of Independence was signed?\n",
      "A. 1776\n",
      "B. 1775\n",
      "C. 1778\n",
      "D. 1789\n",
      "Correct Answer: A. 1776\n",
      "\n",
      "2.Who was the first president of the United States?\n",
      "A. Thomas Jefferson\n",
      "B. George Washington\n",
      "C. James Madison\n",
      "D. John Adams\n",
      "Correct Answer: B. George Washington\n",
      "\n",
      "3.Who wrote the Star-Spangled Banner?\n",
      "A. John Adams\n",
      "B. Francis Scott Key\n",
      "C. Thomas Jefferson\n",
      "D. James Madison\n",
      "Correct Answer: B. Francis Scott Key\n",
      "\n",
      "4.What year did the United States acquire the Louisiana Territory?\n",
      "A. 1802\n",
      "B. 1803\n",
      "C. 1804\n",
      "D. 1805\n",
      "Correct Answer: B. 1803\n"
     ]
    }
   ],
   "source": [
    "print(response['choices'][0]['text'])"
   ]
  }
 ],
 "metadata": {
  "kernelspec": {
   "display_name": "Python 3 (ipykernel)",
   "language": "python",
   "name": "python3"
  },
  "language_info": {
   "codemirror_mode": {
    "name": "ipython",
    "version": 3
   },
   "file_extension": ".py",
   "mimetype": "text/x-python",
   "name": "python",
   "nbconvert_exporter": "python",
   "pygments_lexer": "ipython3",
   "version": "3.10.9"
  }
 },
 "nbformat": 4,
 "nbformat_minor": 5
}
